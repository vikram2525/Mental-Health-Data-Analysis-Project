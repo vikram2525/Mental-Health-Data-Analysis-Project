{
 "cells": [
  {
   "cell_type": "markdown",
   "id": "30c1d974-296b-4fc0-b344-722c7aae5839",
   "metadata": {},
   "source": [
    "### IMPORTING REQUIRED LIBRARIES"
   ]
  },
  {
   "cell_type": "code",
   "execution_count": 16,
   "id": "fca66ad4-1c48-4951-8b8b-e8ba8f6550c8",
   "metadata": {},
   "outputs": [],
   "source": [
    "import pandas as pd\n",
    "import numpy as np"
   ]
  },
  {
   "cell_type": "code",
   "execution_count": 2,
   "id": "72e53f3d-45d7-40af-9871-7cb954ec6df8",
   "metadata": {},
   "outputs": [],
   "source": [
    "DepressionData = pd.read_csv(\"depression_data.csv\")"
   ]
  },
  {
   "cell_type": "code",
   "execution_count": 3,
   "id": "91720c6a-7f83-4758-836b-34a469e36332",
   "metadata": {},
   "outputs": [
    {
     "data": {
      "text/html": [
       "<div>\n",
       "<style scoped>\n",
       "    .dataframe tbody tr th:only-of-type {\n",
       "        vertical-align: middle;\n",
       "    }\n",
       "\n",
       "    .dataframe tbody tr th {\n",
       "        vertical-align: top;\n",
       "    }\n",
       "\n",
       "    .dataframe thead th {\n",
       "        text-align: right;\n",
       "    }\n",
       "</style>\n",
       "<table border=\"1\" class=\"dataframe\">\n",
       "  <thead>\n",
       "    <tr style=\"text-align: right;\">\n",
       "      <th></th>\n",
       "      <th>Name</th>\n",
       "      <th>Age</th>\n",
       "      <th>Marital Status</th>\n",
       "      <th>Education Level</th>\n",
       "      <th>Number of Children</th>\n",
       "      <th>Smoking Status</th>\n",
       "      <th>Physical Activity Level</th>\n",
       "      <th>Employment Status</th>\n",
       "      <th>Income</th>\n",
       "      <th>Alcohol Consumption</th>\n",
       "      <th>Dietary Habits</th>\n",
       "      <th>Sleep Patterns</th>\n",
       "      <th>History of Mental Illness</th>\n",
       "      <th>History of Substance Abuse</th>\n",
       "      <th>Family History of Depression</th>\n",
       "      <th>Chronic Medical Conditions</th>\n",
       "    </tr>\n",
       "  </thead>\n",
       "  <tbody>\n",
       "    <tr>\n",
       "      <th>0</th>\n",
       "      <td>Christine Barker</td>\n",
       "      <td>31</td>\n",
       "      <td>Married</td>\n",
       "      <td>Bachelor's Degree</td>\n",
       "      <td>2</td>\n",
       "      <td>Non-smoker</td>\n",
       "      <td>Active</td>\n",
       "      <td>Unemployed</td>\n",
       "      <td>26265.67</td>\n",
       "      <td>Moderate</td>\n",
       "      <td>Moderate</td>\n",
       "      <td>Fair</td>\n",
       "      <td>Yes</td>\n",
       "      <td>No</td>\n",
       "      <td>Yes</td>\n",
       "      <td>Yes</td>\n",
       "    </tr>\n",
       "    <tr>\n",
       "      <th>1</th>\n",
       "      <td>Jacqueline Lewis</td>\n",
       "      <td>55</td>\n",
       "      <td>Married</td>\n",
       "      <td>High School</td>\n",
       "      <td>1</td>\n",
       "      <td>Non-smoker</td>\n",
       "      <td>Sedentary</td>\n",
       "      <td>Employed</td>\n",
       "      <td>42710.36</td>\n",
       "      <td>High</td>\n",
       "      <td>Unhealthy</td>\n",
       "      <td>Fair</td>\n",
       "      <td>Yes</td>\n",
       "      <td>No</td>\n",
       "      <td>No</td>\n",
       "      <td>Yes</td>\n",
       "    </tr>\n",
       "    <tr>\n",
       "      <th>2</th>\n",
       "      <td>Shannon Church</td>\n",
       "      <td>78</td>\n",
       "      <td>Widowed</td>\n",
       "      <td>Master's Degree</td>\n",
       "      <td>1</td>\n",
       "      <td>Non-smoker</td>\n",
       "      <td>Sedentary</td>\n",
       "      <td>Employed</td>\n",
       "      <td>125332.79</td>\n",
       "      <td>Low</td>\n",
       "      <td>Unhealthy</td>\n",
       "      <td>Good</td>\n",
       "      <td>No</td>\n",
       "      <td>No</td>\n",
       "      <td>Yes</td>\n",
       "      <td>No</td>\n",
       "    </tr>\n",
       "    <tr>\n",
       "      <th>3</th>\n",
       "      <td>Charles Jordan</td>\n",
       "      <td>58</td>\n",
       "      <td>Divorced</td>\n",
       "      <td>Master's Degree</td>\n",
       "      <td>3</td>\n",
       "      <td>Non-smoker</td>\n",
       "      <td>Moderate</td>\n",
       "      <td>Unemployed</td>\n",
       "      <td>9992.78</td>\n",
       "      <td>Moderate</td>\n",
       "      <td>Moderate</td>\n",
       "      <td>Poor</td>\n",
       "      <td>No</td>\n",
       "      <td>No</td>\n",
       "      <td>No</td>\n",
       "      <td>No</td>\n",
       "    </tr>\n",
       "    <tr>\n",
       "      <th>4</th>\n",
       "      <td>Michael Rich</td>\n",
       "      <td>18</td>\n",
       "      <td>Single</td>\n",
       "      <td>High School</td>\n",
       "      <td>0</td>\n",
       "      <td>Non-smoker</td>\n",
       "      <td>Sedentary</td>\n",
       "      <td>Unemployed</td>\n",
       "      <td>8595.08</td>\n",
       "      <td>Low</td>\n",
       "      <td>Moderate</td>\n",
       "      <td>Fair</td>\n",
       "      <td>Yes</td>\n",
       "      <td>No</td>\n",
       "      <td>Yes</td>\n",
       "      <td>Yes</td>\n",
       "    </tr>\n",
       "    <tr>\n",
       "      <th>...</th>\n",
       "      <td>...</td>\n",
       "      <td>...</td>\n",
       "      <td>...</td>\n",
       "      <td>...</td>\n",
       "      <td>...</td>\n",
       "      <td>...</td>\n",
       "      <td>...</td>\n",
       "      <td>...</td>\n",
       "      <td>...</td>\n",
       "      <td>...</td>\n",
       "      <td>...</td>\n",
       "      <td>...</td>\n",
       "      <td>...</td>\n",
       "      <td>...</td>\n",
       "      <td>...</td>\n",
       "      <td>...</td>\n",
       "    </tr>\n",
       "    <tr>\n",
       "      <th>413763</th>\n",
       "      <td>Sean Miller</td>\n",
       "      <td>68</td>\n",
       "      <td>Married</td>\n",
       "      <td>Master's Degree</td>\n",
       "      <td>0</td>\n",
       "      <td>Former</td>\n",
       "      <td>Moderate</td>\n",
       "      <td>Employed</td>\n",
       "      <td>109233.43</td>\n",
       "      <td>Low</td>\n",
       "      <td>Healthy</td>\n",
       "      <td>Good</td>\n",
       "      <td>No</td>\n",
       "      <td>No</td>\n",
       "      <td>No</td>\n",
       "      <td>No</td>\n",
       "    </tr>\n",
       "    <tr>\n",
       "      <th>413764</th>\n",
       "      <td>Christina Brown</td>\n",
       "      <td>26</td>\n",
       "      <td>Single</td>\n",
       "      <td>Bachelor's Degree</td>\n",
       "      <td>0</td>\n",
       "      <td>Current</td>\n",
       "      <td>Active</td>\n",
       "      <td>Employed</td>\n",
       "      <td>96760.97</td>\n",
       "      <td>Low</td>\n",
       "      <td>Healthy</td>\n",
       "      <td>Poor</td>\n",
       "      <td>Yes</td>\n",
       "      <td>Yes</td>\n",
       "      <td>No</td>\n",
       "      <td>Yes</td>\n",
       "    </tr>\n",
       "    <tr>\n",
       "      <th>413765</th>\n",
       "      <td>Matthew Jenkins</td>\n",
       "      <td>57</td>\n",
       "      <td>Married</td>\n",
       "      <td>Bachelor's Degree</td>\n",
       "      <td>0</td>\n",
       "      <td>Non-smoker</td>\n",
       "      <td>Sedentary</td>\n",
       "      <td>Employed</td>\n",
       "      <td>77353.26</td>\n",
       "      <td>Moderate</td>\n",
       "      <td>Moderate</td>\n",
       "      <td>Fair</td>\n",
       "      <td>No</td>\n",
       "      <td>No</td>\n",
       "      <td>Yes</td>\n",
       "      <td>Yes</td>\n",
       "    </tr>\n",
       "    <tr>\n",
       "      <th>413766</th>\n",
       "      <td>Gary Faulkner</td>\n",
       "      <td>71</td>\n",
       "      <td>Married</td>\n",
       "      <td>Associate Degree</td>\n",
       "      <td>2</td>\n",
       "      <td>Non-smoker</td>\n",
       "      <td>Sedentary</td>\n",
       "      <td>Unemployed</td>\n",
       "      <td>24557.08</td>\n",
       "      <td>Moderate</td>\n",
       "      <td>Moderate</td>\n",
       "      <td>Poor</td>\n",
       "      <td>No</td>\n",
       "      <td>Yes</td>\n",
       "      <td>No</td>\n",
       "      <td>No</td>\n",
       "    </tr>\n",
       "    <tr>\n",
       "      <th>413767</th>\n",
       "      <td>Joseph Johnson</td>\n",
       "      <td>62</td>\n",
       "      <td>Widowed</td>\n",
       "      <td>Master's Degree</td>\n",
       "      <td>0</td>\n",
       "      <td>Former</td>\n",
       "      <td>Moderate</td>\n",
       "      <td>Employed</td>\n",
       "      <td>107125.74</td>\n",
       "      <td>Moderate</td>\n",
       "      <td>Healthy</td>\n",
       "      <td>Good</td>\n",
       "      <td>No</td>\n",
       "      <td>Yes</td>\n",
       "      <td>No</td>\n",
       "      <td>No</td>\n",
       "    </tr>\n",
       "  </tbody>\n",
       "</table>\n",
       "<p>413768 rows × 16 columns</p>\n",
       "</div>"
      ],
      "text/plain": [
       "                    Name  Age Marital Status    Education Level  \\\n",
       "0       Christine Barker   31        Married  Bachelor's Degree   \n",
       "1       Jacqueline Lewis   55        Married        High School   \n",
       "2         Shannon Church   78        Widowed    Master's Degree   \n",
       "3         Charles Jordan   58       Divorced    Master's Degree   \n",
       "4           Michael Rich   18         Single        High School   \n",
       "...                  ...  ...            ...                ...   \n",
       "413763       Sean Miller   68        Married    Master's Degree   \n",
       "413764   Christina Brown   26         Single  Bachelor's Degree   \n",
       "413765   Matthew Jenkins   57        Married  Bachelor's Degree   \n",
       "413766     Gary Faulkner   71        Married   Associate Degree   \n",
       "413767    Joseph Johnson   62        Widowed    Master's Degree   \n",
       "\n",
       "        Number of Children Smoking Status Physical Activity Level  \\\n",
       "0                        2     Non-smoker                  Active   \n",
       "1                        1     Non-smoker               Sedentary   \n",
       "2                        1     Non-smoker               Sedentary   \n",
       "3                        3     Non-smoker                Moderate   \n",
       "4                        0     Non-smoker               Sedentary   \n",
       "...                    ...            ...                     ...   \n",
       "413763                   0         Former                Moderate   \n",
       "413764                   0        Current                  Active   \n",
       "413765                   0     Non-smoker               Sedentary   \n",
       "413766                   2     Non-smoker               Sedentary   \n",
       "413767                   0         Former                Moderate   \n",
       "\n",
       "       Employment Status     Income Alcohol Consumption Dietary Habits  \\\n",
       "0             Unemployed   26265.67            Moderate       Moderate   \n",
       "1               Employed   42710.36                High      Unhealthy   \n",
       "2               Employed  125332.79                 Low      Unhealthy   \n",
       "3             Unemployed    9992.78            Moderate       Moderate   \n",
       "4             Unemployed    8595.08                 Low       Moderate   \n",
       "...                  ...        ...                 ...            ...   \n",
       "413763          Employed  109233.43                 Low        Healthy   \n",
       "413764          Employed   96760.97                 Low        Healthy   \n",
       "413765          Employed   77353.26            Moderate       Moderate   \n",
       "413766        Unemployed   24557.08            Moderate       Moderate   \n",
       "413767          Employed  107125.74            Moderate        Healthy   \n",
       "\n",
       "       Sleep Patterns History of Mental Illness History of Substance Abuse  \\\n",
       "0                Fair                       Yes                         No   \n",
       "1                Fair                       Yes                         No   \n",
       "2                Good                        No                         No   \n",
       "3                Poor                        No                         No   \n",
       "4                Fair                       Yes                         No   \n",
       "...               ...                       ...                        ...   \n",
       "413763           Good                        No                         No   \n",
       "413764           Poor                       Yes                        Yes   \n",
       "413765           Fair                        No                         No   \n",
       "413766           Poor                        No                        Yes   \n",
       "413767           Good                        No                        Yes   \n",
       "\n",
       "       Family History of Depression Chronic Medical Conditions  \n",
       "0                               Yes                        Yes  \n",
       "1                                No                        Yes  \n",
       "2                               Yes                         No  \n",
       "3                                No                         No  \n",
       "4                               Yes                        Yes  \n",
       "...                             ...                        ...  \n",
       "413763                           No                         No  \n",
       "413764                           No                        Yes  \n",
       "413765                          Yes                        Yes  \n",
       "413766                           No                         No  \n",
       "413767                           No                         No  \n",
       "\n",
       "[413768 rows x 16 columns]"
      ]
     },
     "execution_count": 3,
     "metadata": {},
     "output_type": "execute_result"
    }
   ],
   "source": [
    "DepressionData"
   ]
  },
  {
   "cell_type": "code",
   "execution_count": 4,
   "id": "7aa59b79-f147-4fee-8727-474a1888c5ef",
   "metadata": {},
   "outputs": [
    {
     "data": {
      "text/plain": [
       "Name                            0\n",
       "Age                             0\n",
       "Marital Status                  0\n",
       "Education Level                 0\n",
       "Number of Children              0\n",
       "Smoking Status                  0\n",
       "Physical Activity Level         0\n",
       "Employment Status               0\n",
       "Income                          0\n",
       "Alcohol Consumption             0\n",
       "Dietary Habits                  0\n",
       "Sleep Patterns                  0\n",
       "History of Mental Illness       0\n",
       "History of Substance Abuse      0\n",
       "Family History of Depression    0\n",
       "Chronic Medical Conditions      0\n",
       "dtype: int64"
      ]
     },
     "execution_count": 4,
     "metadata": {},
     "output_type": "execute_result"
    }
   ],
   "source": [
    "DepressionData.isnull().sum()"
   ]
  },
  {
   "cell_type": "code",
   "execution_count": 5,
   "id": "d5529c6b-eea0-46cb-9cc5-a907ecb71d20",
   "metadata": {},
   "outputs": [],
   "source": [
    "DepressData = DepressionData.drop_duplicates()"
   ]
  },
  {
   "cell_type": "markdown",
   "id": "f4a6d1d8-084c-4cec-8b87-3eafa7170a99",
   "metadata": {},
   "source": [
    "#### 1. What is the average age of individuals with a history of mental illness?\n",
    "\n",
    "   "
   ]
  },
  {
   "cell_type": "code",
   "execution_count": 18,
   "id": "638caefc-4740-43d5-8435-67b6e6309529",
   "metadata": {},
   "outputs": [
    {
     "name": "stdout",
     "output_type": "stream",
     "text": [
      "Average Age of Mental Illness is 49.67873634015498\n"
     ]
    }
   ],
   "source": [
    "#### Finding the average age of those affected by mental illness\n",
    "avg_age_mental_illness = DepressData[DepressData['History of Mental Illness'] == 'Yes']['Age'].mean()\n",
    "print(\"Average Age of Mental Illness is\",avg_age_mental_illness)"
   ]
  },
  {
   "cell_type": "markdown",
   "id": "7b3a0676-f501-4b62-a28f-6aad973bc658",
   "metadata": {},
   "source": [
    "#### 2. What percentage of people in each marital status category have a history of mental illness?"
   ]
  },
  {
   "cell_type": "code",
   "execution_count": 20,
   "id": "490a52ab-0983-4239-bbce-d3b8224f9935",
   "metadata": {},
   "outputs": [
    {
     "name": "stdout",
     "output_type": "stream",
     "text": [
      "Mental Illness by Marital Status\n",
      "Divorced    29.386782\n",
      "Married     30.480694\n",
      "Single      29.704618\n",
      "Widowed     31.390816\n",
      "Name: History of Mental Illness, dtype: float64\n"
     ]
    }
   ],
   "source": [
    "#### Analyzing the prevalence of mental illness by marital status.\n",
    "mental_illness_by_marital_status = DepressData.groupby('Marital Status')['History of Mental Illness'].apply(lambda x: (x == 'Yes').mean() * 100)\n",
    "print(\"Mental Illness of people by\",mental_illness_by_marital_status)"
   ]
  },
  {
   "cell_type": "markdown",
   "id": "1e49e599-4475-423b-bc33-74eedd431e16",
   "metadata": {},
   "source": [
    "#### 3. How does income level correlate with having a history of mental illness?"
   ]
  },
  {
   "cell_type": "code",
   "execution_count": 21,
   "id": "0a3aee90-d716-4757-b263-0ed3f3060a1b",
   "metadata": {},
   "outputs": [
    {
     "name": "stderr",
     "output_type": "stream",
     "text": [
      "C:\\Users\\s1drj\\AppData\\Local\\Temp\\ipykernel_14556\\2840842604.py:3: FutureWarning: The default of observed=False is deprecated and will be changed to True in a future version of pandas. Pass observed=False to retain current behavior or observed=True to adopt the future default and silence this warning.\n",
      "  mental_illness_by_income = DepressData.groupby(income_groups)['History of Mental Illness'].apply(lambda x: (x == 'Yes').mean() * 100)\n"
     ]
    },
    {
     "name": "stdout",
     "output_type": "stream",
     "text": [
      "Mental Illness by Income\n",
      "(-209.585, 41999.372]       35.935107\n",
      "(41999.372, 83998.334]      25.637066\n",
      "(83998.334, 125997.296]     21.325398\n",
      "(125997.296, 167996.258]    21.126381\n",
      "(167996.258, 209995.22]     21.734104\n",
      "Name: History of Mental Illness, dtype: float64\n"
     ]
    }
   ],
   "source": [
    "#### Exploring the relationship between income levels and mental illness.\n",
    "income_groups = pd.cut(DepressData['Income'], bins=5)\n",
    "mental_illness_by_income = DepressData.groupby(income_groups)['History of Mental Illness'].apply(lambda x: (x == 'Yes').mean() * 100)\n",
    "print(\"Mental Illness of people by\",mental_illness_by_income)"
   ]
  },
  {
   "cell_type": "markdown",
   "id": "db14678f-4c7c-486f-8155-0561fa53bfde",
   "metadata": {},
   "source": [
    "#### 4. What is the average number of children for individuals with a history of mental illness?"
   ]
  },
  {
   "cell_type": "code",
   "execution_count": 23,
   "id": "e711e370-7826-450a-a68b-c045125878df",
   "metadata": {},
   "outputs": [
    {
     "name": "stdout",
     "output_type": "stream",
     "text": [
      "Average children of people who are suffering from Mental Illness is 1.3040492747864096\n"
     ]
    }
   ],
   "source": [
    "#### Investigating family size among those with mental illness.\n",
    "avg_children_mental_illness = DepressData[DepressData['History of Mental Illness'] == 'Yes']['Number of Children'].mean()\n",
    "print(\"Average children of people who are suffering from Mental Illness is\",avg_children_mental_illness)\n"
   ]
  },
  {
   "cell_type": "markdown",
   "id": "b364a8e7-70c7-4a55-9d6c-b8cca86c0690",
   "metadata": {},
   "source": [
    "#### 5. How do different physical activity levels correlate with the prevalence of mental illness?"
   ]
  },
  {
   "cell_type": "code",
   "execution_count": 24,
   "id": "f3a69366-f3d6-407d-baec-954b7470fcbc",
   "metadata": {},
   "outputs": [
    {
     "name": "stdout",
     "output_type": "stream",
     "text": [
      " Average Mental Illness of people with respective Physical Activity Level\n",
      "Active       29.758570\n",
      "Moderate     30.286116\n",
      "Sedentary    30.810291\n",
      "Name: History of Mental Illness, dtype: float64\n"
     ]
    }
   ],
   "source": [
    "#### Understanding if physical activity is associated with mental health.\n",
    "mental_illness_by_activity = DepressData.groupby('Physical Activity Level')['History of Mental Illness'].apply(lambda x: (x == 'Yes').mean() * 100)\n",
    "print(\" Average Mental Illness of people with respective\", mental_illness_by_activity)"
   ]
  },
  {
   "cell_type": "markdown",
   "id": "05baecdb-63d2-4e6e-ba03-ce444646a276",
   "metadata": {},
   "source": [
    "#### 6. What is the proportion of individuals with chronic medical conditions who also have a history of mental illness?"
   ]
  },
  {
   "cell_type": "code",
   "execution_count": 25,
   "id": "ca533f70-6739-43a4-8c4f-fdea6515709d",
   "metadata": {},
   "outputs": [
    {
     "name": "stdout",
     "output_type": "stream",
     "text": [
      "Mental Illness of people by Chronic Medical Conditions\n",
      "No     30.214980\n",
      "Yes    30.806053\n",
      "Name: History of Mental Illness, dtype: float64\n"
     ]
    }
   ],
   "source": [
    "#### Exploring the overlap between chronic medical conditions and mental illness.\n",
    "chronic_conditions_mental_illness = DepressData.groupby('Chronic Medical Conditions')['History of Mental Illness'].apply(lambda x: (x == 'Yes').mean() * 100)\n",
    "print(\"Mental Illness of people by\",chronic_conditions_mental_illness)"
   ]
  },
  {
   "cell_type": "markdown",
   "id": "fa54c7c0-f8de-4e76-9e57-e62fae839e00",
   "metadata": {},
   "source": [
    "#### 7. Which education level has the highest percentage of individuals with a history of mental illness?"
   ]
  },
  {
   "cell_type": "code",
   "execution_count": 26,
   "id": "5dfd814c-cfb2-4a49-9984-0e1da871f5fc",
   "metadata": {},
   "outputs": [
    {
     "name": "stdout",
     "output_type": "stream",
     "text": [
      "Mental Illness of people by Education Level\n",
      "Associate Degree     33.344167\n",
      "Bachelor's Degree    27.736087\n",
      "High School          33.082479\n",
      "Master's Degree      28.002657\n",
      "PhD                  27.859062\n",
      "Name: History of Mental Illness, dtype: float64\n"
     ]
    }
   ],
   "source": [
    "#### Identifying educational groups most affected by mental illness\n",
    "mental_illness_by_education = DepressData.groupby('Education Level')['History of Mental Illness'].apply(lambda x: (x == 'Yes').mean() * 100)\n",
    "print(\"Mental Illness of people by\",mental_illness_by_education)"
   ]
  },
  {
   "cell_type": "markdown",
   "id": "1c4c5b39-9664-489a-ade6-f45e6cb5ea07",
   "metadata": {},
   "source": [
    "#### 8. What is the average income for individuals with and without a history of mental illness?"
   ]
  },
  {
   "cell_type": "code",
   "execution_count": 28,
   "id": "8fea43f7-09a2-4aa1-84d2-8cd5ff2b0fa8",
   "metadata": {},
   "outputs": [
    {
     "name": "stdout",
     "output_type": "stream",
     "text": [
      "Average Income of people with/without History of Mental Illness\n",
      "No     54335.500583\n",
      "Yes    42254.452926\n",
      "Name: Income, dtype: float64\n"
     ]
    }
   ],
   "source": [
    "#### Comparing the income of those with and without mental illness.\n",
    "avg_income_mental_illness = DepressData.groupby('History of Mental Illness')['Income'].mean()\n",
    "print(\"Average Income of people with/without\",avg_income_mental_illness)"
   ]
  },
  {
   "cell_type": "markdown",
   "id": "8216f531-295f-4719-b005-3420f52205d9",
   "metadata": {},
   "source": [
    "#### 9. What percentage of individuals with a family history of depression also have a history of mental illness?"
   ]
  },
  {
   "cell_type": "code",
   "execution_count": 31,
   "id": "8e0ab95c-0579-4427-92e5-394f7782e873",
   "metadata": {},
   "outputs": [
    {
     "name": "stdout",
     "output_type": "stream",
     "text": [
      "Percentage of people with/without Mental Illness and thier Family History of Depression\n",
      "No     30.273210\n",
      "Yes    30.780294\n",
      "Name: History of Mental Illness, dtype: float64\n"
     ]
    }
   ],
   "source": [
    "#### Investigating the correlation between family history and personal history of mental illness.\n",
    "mental_illness_family_history = DepressData.groupby('Family History of Depression')['History of Mental Illness'].apply(lambda x: (x == 'Yes').mean() * 100)\n",
    "print(\"Percentage of people with/without Mental Illness and thier\",mental_illness_family_history)"
   ]
  },
  {
   "cell_type": "markdown",
   "id": "c04c876a-3dbc-4503-aadc-3f2a2e81a09f",
   "metadata": {},
   "source": [
    "#### 10. How does smoking status relate to the prevalence of mental illness?"
   ]
  },
  {
   "cell_type": "code",
   "execution_count": 32,
   "id": "11debb1a-f96f-42ae-98dc-a677c6c0b199",
   "metadata": {},
   "outputs": [
    {
     "name": "stdout",
     "output_type": "stream",
     "text": [
      "Average Mentall Ilness of people with thier Smoking Status\n",
      "Current       29.887578\n",
      "Former        30.256318\n",
      "Non-smoker    30.587351\n",
      "Name: History of Mental Illness, dtype: float64\n"
     ]
    }
   ],
   "source": [
    "#### Examining the link between smoking and mental health\n",
    "mental_illness_by_smoking = DepressData.groupby('Smoking Status')['History of Mental Illness'].apply(lambda x: (x == 'Yes').mean() * 100)\n",
    "print(\"Average Mentall Ilness of people with thier\",mental_illness_by_smoking)"
   ]
  }
 ],
 "metadata": {
  "kernelspec": {
   "display_name": "Python 3 (ipykernel)",
   "language": "python",
   "name": "python3"
  },
  "language_info": {
   "codemirror_mode": {
    "name": "ipython",
    "version": 3
   },
   "file_extension": ".py",
   "mimetype": "text/x-python",
   "name": "python",
   "nbconvert_exporter": "python",
   "pygments_lexer": "ipython3",
   "version": "3.12.4"
  }
 },
 "nbformat": 4,
 "nbformat_minor": 5
}
